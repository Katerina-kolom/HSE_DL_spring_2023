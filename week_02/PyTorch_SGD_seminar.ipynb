{
  "cells": [
    {
      "cell_type": "markdown",
      "metadata": {
        "id": "V1trn9F4vHX9"
      },
      "source": [
        "# Классификация и градиентные спуски\n",
        "\n",
        "В этой тетрадке мы попробуем немного посмотреть на то, как работают разные градиентные спуски. "
      ]
    },
    {
      "cell_type": "markdown",
      "metadata": {
        "id": "5TIbkAzDDHUA"
      },
      "source": [
        "# Простейшие нейронные сети на PyTorch\n",
        "\n",
        "\n",
        "Фрэймворком для обучения нейросеток на нашем курсе будет PyTorch. PyTorch стал очень популярным благодаря интуитивно понятной парадигме программирования нейронных сетей, основанной на динамическом графе. Не так давно PyTorch создал свою экосистему https://pytorch.org/ecosystem/, которая содержит в себе библиотеки, решающие практически всевозможные задачи машинного обучения. \n",
        "\n",
        "Чтобы установить библиотеку PyTorch, отправляйтесь в консоль и пропишите \n",
        "\n",
        "```\n",
        "Для Windows без GPU\n",
        "pip install torch==1.6.0+cpu torchvision==0.7.0+cpu -f https://download.pytorch.org/whl/torch_stable.html\n",
        "\n",
        "Для Windows c GPU\n",
        "pip install torch==1.6.0+cu101 torchvision==0.7.0+cu101 -f https://download.pytorch.org/whl/torch_stable.html\n",
        "\n",
        "Для Linux без GPU\n",
        "pip install torch==1.6.0+cpu torchvision==0.7.0+cpu -f https://download.pytorch.org/whl/torch_stable.html\n",
        "\n",
        "Для Linux c GPU\n",
        "pip install torch==1.6.0+cu101 torchvision==0.7.0+cu101 -f https://download.pytorch.org/whl/torch_stable.html\n",
        "\n",
        "Для Mac\n",
        "pip install torch torchvision\n",
        "\n",
        "pip install pytorch-lightning\n",
        "```\n"
      ]
    },
    {
      "cell_type": "code",
      "execution_count": null,
      "metadata": {
        "colab": {
          "base_uri": "https://localhost:8080/"
        },
        "id": "MiINll8aDPkE",
        "outputId": "423e7bf3-b569-4a47-c2e4-b8f75c456e61"
      },
      "outputs": [
        {
          "name": "stdout",
          "output_type": "stream",
          "text": [
            "1.12.1+cu113\n"
          ]
        }
      ],
      "source": [
        "# Подгружаем pytorch \n",
        "import torch\n",
        "\n",
        "print(torch.__version__)"
      ]
    },
    {
      "cell_type": "code",
      "execution_count": null,
      "metadata": {
        "id": "gcgDcJOovHYB"
      },
      "outputs": [],
      "source": [
        "import numpy as np\n",
        "import pandas as pd\n",
        "import matplotlib.pyplot as plt\n",
        "\n",
        "import warnings         # чтобы никто не мешал бесчинствам с кодом\n",
        "warnings.filterwarnings(\"ignore\") # обработка всевозсожных warnings путем их игнорирования\n",
        "\n",
        "plt.style.use('ggplot')\n",
        "%matplotlib inline"
      ]
    },
    {
      "cell_type": "code",
      "execution_count": null,
      "metadata": {
        "colab": {
          "base_uri": "https://localhost:8080/"
        },
        "id": "RQe8vfswv2YM",
        "outputId": "6697e731-4c7a-4d01-c492-914889cbc617"
      },
      "outputs": [
        {
          "name": "stdout",
          "output_type": "stream",
          "text": [
            "Mounted at /content/drive\n"
          ]
        }
      ],
      "source": [
        "# Detect if we are in Google Colaboratory\n",
        "try:\n",
        "    import google.colab\n",
        "    IN_COLAB = True\n",
        "except ImportError:\n",
        "    IN_COLAB = False\n",
        "\n",
        "from pathlib import Path\n",
        "# Determine the locations of auxiliary libraries and datasets.\n",
        "if IN_COLAB:\n",
        "    google.colab.drive.mount(\"/content/drive\")\n",
        "    \n",
        "    ROOT = Path(\"/content/drive/My Drive/HSE_DL_2022/week_02/\")\n",
        "    \n",
        "    assert ROOT.is_dir(), \"Have you forgotten to 'Add a shortcut to Drive'?\"\n",
        "    \n",
        "    import sys\n",
        "    sys.path.append(str(ROOT))\n",
        "else:\n",
        "    ROOT = Path(\".\")"
      ]
    },
    {
      "cell_type": "markdown",
      "metadata": {
        "id": "IIsyhmUjvHYC"
      },
      "source": [
        "# 1. Выборка\n",
        "\n",
        "Делать всё это мы будем на животных. Ежегодно около 7.6 миллионов бедных животных в США оказываются в приютах. Часть из них находит себе новую семью, часть возвращается к старому (бывает, что питомец потерялся и его нашли на улице), а часть погибает. Ужегодно усыпляется около 2.7 млн. собак и кошек.  \n",
        "\n",
        "Используя датасет с входной информацией (цвет, пол, возраст и т.п.) из одного из приютов, мы попытаемся спрогнозировать что произойдёт с новыми животными, которые попадут в этот приют. Данные, используемые в тетрадке уже были предварительно обработаны и приведены в удобную для построения моделей форму. "
      ]
    },
    {
      "cell_type": "code",
      "execution_count": null,
      "metadata": {
        "colab": {
          "base_uri": "https://localhost:8080/",
          "height": 314
        },
        "id": "SA2TPHo4vHYD",
        "outputId": "dd62e300-6839-4dc6-a2c4-ff4e416e9678"
      },
      "outputs": [
        {
          "name": "stdout",
          "output_type": "stream",
          "text": [
            "(26729, 37)\n"
          ]
        },
        {
          "data": {
            "text/html": [
              "\n",
              "  <div id=\"df-1e6d330c-4dcb-47d1-b165-33363a204f20\">\n",
              "    <div class=\"colab-df-container\">\n",
              "      <div>\n",
              "<style scoped>\n",
              "    .dataframe tbody tr th:only-of-type {\n",
              "        vertical-align: middle;\n",
              "    }\n",
              "\n",
              "    .dataframe tbody tr th {\n",
              "        vertical-align: top;\n",
              "    }\n",
              "\n",
              "    .dataframe thead th {\n",
              "        text-align: right;\n",
              "    }\n",
              "</style>\n",
              "<table border=\"1\" class=\"dataframe\">\n",
              "  <thead>\n",
              "    <tr style=\"text-align: right;\">\n",
              "      <th></th>\n",
              "      <th>IsDog</th>\n",
              "      <th>Age</th>\n",
              "      <th>HasName</th>\n",
              "      <th>NameLength</th>\n",
              "      <th>NameFreq</th>\n",
              "      <th>MixColor</th>\n",
              "      <th>ColorFreqAsIs</th>\n",
              "      <th>ColorFreqBase</th>\n",
              "      <th>TabbyColor</th>\n",
              "      <th>MixBreed</th>\n",
              "      <th>...</th>\n",
              "      <th>SexStatus_Flawed</th>\n",
              "      <th>SexStatus_Intact</th>\n",
              "      <th>SexStatus_Unknown</th>\n",
              "      <th>Weekday_0</th>\n",
              "      <th>Weekday_1</th>\n",
              "      <th>Weekday_2</th>\n",
              "      <th>Weekday_3</th>\n",
              "      <th>Weekday_4</th>\n",
              "      <th>Weekday_5</th>\n",
              "      <th>Weekday_6</th>\n",
              "    </tr>\n",
              "  </thead>\n",
              "  <tbody>\n",
              "    <tr>\n",
              "      <th>0</th>\n",
              "      <td>1</td>\n",
              "      <td>365.0</td>\n",
              "      <td>1</td>\n",
              "      <td>7</td>\n",
              "      <td>0.000157</td>\n",
              "      <td>1</td>\n",
              "      <td>0.032919</td>\n",
              "      <td>0.463624</td>\n",
              "      <td>0</td>\n",
              "      <td>1</td>\n",
              "      <td>...</td>\n",
              "      <td>1</td>\n",
              "      <td>0</td>\n",
              "      <td>0</td>\n",
              "      <td>0</td>\n",
              "      <td>0</td>\n",
              "      <td>1</td>\n",
              "      <td>0</td>\n",
              "      <td>0</td>\n",
              "      <td>0</td>\n",
              "      <td>0</td>\n",
              "    </tr>\n",
              "    <tr>\n",
              "      <th>1</th>\n",
              "      <td>0</td>\n",
              "      <td>365.0</td>\n",
              "      <td>1</td>\n",
              "      <td>5</td>\n",
              "      <td>0.000655</td>\n",
              "      <td>0</td>\n",
              "      <td>0.008092</td>\n",
              "      <td>0.015005</td>\n",
              "      <td>1</td>\n",
              "      <td>1</td>\n",
              "      <td>...</td>\n",
              "      <td>1</td>\n",
              "      <td>0</td>\n",
              "      <td>0</td>\n",
              "      <td>0</td>\n",
              "      <td>0</td>\n",
              "      <td>0</td>\n",
              "      <td>0</td>\n",
              "      <td>0</td>\n",
              "      <td>0</td>\n",
              "      <td>1</td>\n",
              "    </tr>\n",
              "    <tr>\n",
              "      <th>2</th>\n",
              "      <td>1</td>\n",
              "      <td>730.0</td>\n",
              "      <td>1</td>\n",
              "      <td>6</td>\n",
              "      <td>0.000052</td>\n",
              "      <td>1</td>\n",
              "      <td>0.026293</td>\n",
              "      <td>0.357521</td>\n",
              "      <td>0</td>\n",
              "      <td>1</td>\n",
              "      <td>...</td>\n",
              "      <td>1</td>\n",
              "      <td>0</td>\n",
              "      <td>0</td>\n",
              "      <td>0</td>\n",
              "      <td>0</td>\n",
              "      <td>0</td>\n",
              "      <td>0</td>\n",
              "      <td>0</td>\n",
              "      <td>1</td>\n",
              "      <td>0</td>\n",
              "    </tr>\n",
              "    <tr>\n",
              "      <th>3</th>\n",
              "      <td>0</td>\n",
              "      <td>21.0</td>\n",
              "      <td>0</td>\n",
              "      <td>7</td>\n",
              "      <td>0.285871</td>\n",
              "      <td>0</td>\n",
              "      <td>0.000471</td>\n",
              "      <td>0.058418</td>\n",
              "      <td>0</td>\n",
              "      <td>1</td>\n",
              "      <td>...</td>\n",
              "      <td>0</td>\n",
              "      <td>1</td>\n",
              "      <td>0</td>\n",
              "      <td>0</td>\n",
              "      <td>0</td>\n",
              "      <td>0</td>\n",
              "      <td>0</td>\n",
              "      <td>1</td>\n",
              "      <td>0</td>\n",
              "      <td>0</td>\n",
              "    </tr>\n",
              "    <tr>\n",
              "      <th>4</th>\n",
              "      <td>1</td>\n",
              "      <td>730.0</td>\n",
              "      <td>0</td>\n",
              "      <td>7</td>\n",
              "      <td>0.285871</td>\n",
              "      <td>0</td>\n",
              "      <td>0.023831</td>\n",
              "      <td>0.075353</td>\n",
              "      <td>0</td>\n",
              "      <td>0</td>\n",
              "      <td>...</td>\n",
              "      <td>1</td>\n",
              "      <td>0</td>\n",
              "      <td>0</td>\n",
              "      <td>0</td>\n",
              "      <td>0</td>\n",
              "      <td>0</td>\n",
              "      <td>0</td>\n",
              "      <td>1</td>\n",
              "      <td>0</td>\n",
              "      <td>0</td>\n",
              "    </tr>\n",
              "  </tbody>\n",
              "</table>\n",
              "<p>5 rows × 37 columns</p>\n",
              "</div>\n",
              "      <button class=\"colab-df-convert\" onclick=\"convertToInteractive('df-1e6d330c-4dcb-47d1-b165-33363a204f20')\"\n",
              "              title=\"Convert this dataframe to an interactive table.\"\n",
              "              style=\"display:none;\">\n",
              "        \n",
              "  <svg xmlns=\"http://www.w3.org/2000/svg\" height=\"24px\"viewBox=\"0 0 24 24\"\n",
              "       width=\"24px\">\n",
              "    <path d=\"M0 0h24v24H0V0z\" fill=\"none\"/>\n",
              "    <path d=\"M18.56 5.44l.94 2.06.94-2.06 2.06-.94-2.06-.94-.94-2.06-.94 2.06-2.06.94zm-11 1L8.5 8.5l.94-2.06 2.06-.94-2.06-.94L8.5 2.5l-.94 2.06-2.06.94zm10 10l.94 2.06.94-2.06 2.06-.94-2.06-.94-.94-2.06-.94 2.06-2.06.94z\"/><path d=\"M17.41 7.96l-1.37-1.37c-.4-.4-.92-.59-1.43-.59-.52 0-1.04.2-1.43.59L10.3 9.45l-7.72 7.72c-.78.78-.78 2.05 0 2.83L4 21.41c.39.39.9.59 1.41.59.51 0 1.02-.2 1.41-.59l7.78-7.78 2.81-2.81c.8-.78.8-2.07 0-2.86zM5.41 20L4 18.59l7.72-7.72 1.47 1.35L5.41 20z\"/>\n",
              "  </svg>\n",
              "      </button>\n",
              "      \n",
              "  <style>\n",
              "    .colab-df-container {\n",
              "      display:flex;\n",
              "      flex-wrap:wrap;\n",
              "      gap: 12px;\n",
              "    }\n",
              "\n",
              "    .colab-df-convert {\n",
              "      background-color: #E8F0FE;\n",
              "      border: none;\n",
              "      border-radius: 50%;\n",
              "      cursor: pointer;\n",
              "      display: none;\n",
              "      fill: #1967D2;\n",
              "      height: 32px;\n",
              "      padding: 0 0 0 0;\n",
              "      width: 32px;\n",
              "    }\n",
              "\n",
              "    .colab-df-convert:hover {\n",
              "      background-color: #E2EBFA;\n",
              "      box-shadow: 0px 1px 2px rgba(60, 64, 67, 0.3), 0px 1px 3px 1px rgba(60, 64, 67, 0.15);\n",
              "      fill: #174EA6;\n",
              "    }\n",
              "\n",
              "    [theme=dark] .colab-df-convert {\n",
              "      background-color: #3B4455;\n",
              "      fill: #D2E3FC;\n",
              "    }\n",
              "\n",
              "    [theme=dark] .colab-df-convert:hover {\n",
              "      background-color: #434B5C;\n",
              "      box-shadow: 0px 1px 3px 1px rgba(0, 0, 0, 0.15);\n",
              "      filter: drop-shadow(0px 1px 2px rgba(0, 0, 0, 0.3));\n",
              "      fill: #FFFFFF;\n",
              "    }\n",
              "  </style>\n",
              "\n",
              "      <script>\n",
              "        const buttonEl =\n",
              "          document.querySelector('#df-1e6d330c-4dcb-47d1-b165-33363a204f20 button.colab-df-convert');\n",
              "        buttonEl.style.display =\n",
              "          google.colab.kernel.accessAllowed ? 'block' : 'none';\n",
              "\n",
              "        async function convertToInteractive(key) {\n",
              "          const element = document.querySelector('#df-1e6d330c-4dcb-47d1-b165-33363a204f20');\n",
              "          const dataTable =\n",
              "            await google.colab.kernel.invokeFunction('convertToInteractive',\n",
              "                                                     [key], {});\n",
              "          if (!dataTable) return;\n",
              "\n",
              "          const docLinkHtml = 'Like what you see? Visit the ' +\n",
              "            '<a target=\"_blank\" href=https://colab.research.google.com/notebooks/data_table.ipynb>data table notebook</a>'\n",
              "            + ' to learn more about interactive tables.';\n",
              "          element.innerHTML = '';\n",
              "          dataTable['output_type'] = 'display_data';\n",
              "          await google.colab.output.renderOutput(dataTable, element);\n",
              "          const docLink = document.createElement('div');\n",
              "          docLink.innerHTML = docLinkHtml;\n",
              "          element.appendChild(docLink);\n",
              "        }\n",
              "      </script>\n",
              "    </div>\n",
              "  </div>\n",
              "  "
            ],
            "text/plain": [
              "   IsDog    Age  HasName  NameLength  NameFreq  MixColor  ColorFreqAsIs  \\\n",
              "0      1  365.0        1           7  0.000157         1       0.032919   \n",
              "1      0  365.0        1           5  0.000655         0       0.008092   \n",
              "2      1  730.0        1           6  0.000052         1       0.026293   \n",
              "3      0   21.0        0           7  0.285871         0       0.000471   \n",
              "4      1  730.0        0           7  0.285871         0       0.023831   \n",
              "\n",
              "   ColorFreqBase  TabbyColor  MixBreed  ...  SexStatus_Flawed  \\\n",
              "0       0.463624           0         1  ...                 1   \n",
              "1       0.015005           1         1  ...                 1   \n",
              "2       0.357521           0         1  ...                 1   \n",
              "3       0.058418           0         1  ...                 0   \n",
              "4       0.075353           0         0  ...                 1   \n",
              "\n",
              "   SexStatus_Intact  SexStatus_Unknown  Weekday_0  Weekday_1  Weekday_2  \\\n",
              "0                 0                  0          0          0          1   \n",
              "1                 0                  0          0          0          0   \n",
              "2                 0                  0          0          0          0   \n",
              "3                 1                  0          0          0          0   \n",
              "4                 0                  0          0          0          0   \n",
              "\n",
              "   Weekday_3  Weekday_4  Weekday_5  Weekday_6  \n",
              "0          0          0          0          0  \n",
              "1          0          0          0          1  \n",
              "2          0          0          1          0  \n",
              "3          0          1          0          0  \n",
              "4          0          1          0          0  \n",
              "\n",
              "[5 rows x 37 columns]"
            ]
          },
          "execution_count": 4,
          "metadata": {},
          "output_type": "execute_result"
        }
      ],
      "source": [
        "X = pd.read_csv(f'{ROOT}/X_cat.csv', sep = '\\t', index_col=0)\n",
        "target = pd.read_csv(f'{ROOT}/y_cat.csv', sep = '\\t', index_col=0,  names=['status'])\n",
        "\n",
        "print(X.shape)\n",
        "X.head()"
      ]
    },
    {
      "cell_type": "markdown",
      "metadata": {
        "id": "x5ZSefafvHYE"
      },
      "source": [
        "В датасете находится около 27 тысяч наблюдений и 39 регрессоров. Посмотрим на то как выглядит распределение того, что произошло со зверятами по особям."
      ]
    },
    {
      "cell_type": "code",
      "execution_count": null,
      "metadata": {
        "colab": {
          "base_uri": "https://localhost:8080/"
        },
        "id": "8IptC3WKvHYF",
        "outputId": "d5907bb8-d9bb-4f74-c66f-6aefb0fd1afe"
      },
      "outputs": [
        {
          "data": {
            "text/plain": [
              "Adoption           10769\n",
              "Transfer            9422\n",
              "Return_to_owner     4786\n",
              "Euthanasia          1555\n",
              "Died                 197\n",
              "Name: status, dtype: int64"
            ]
          },
          "execution_count": 5,
          "metadata": {},
          "output_type": "execute_result"
        }
      ],
      "source": [
        "target.status.value_counts()"
      ]
    },
    {
      "cell_type": "markdown",
      "metadata": {
        "id": "R9bQ0IkjvHYF"
      },
      "source": [
        "Видим, что классы несбалансированы. Попробуем оставит четыре класса и объединить класс умерших животных с классом животных, которых усыпили. "
      ]
    },
    {
      "cell_type": "code",
      "execution_count": null,
      "metadata": {
        "id": "21PcHtlSvHYG"
      },
      "outputs": [],
      "source": [
        "target = target.values\n",
        "target[target == 'Died'] = 'Euthanasia'"
      ]
    },
    {
      "cell_type": "markdown",
      "metadata": {
        "id": "TeP0Lhe2vHYG"
      },
      "source": [
        "Закодируем классы."
      ]
    },
    {
      "cell_type": "code",
      "execution_count": null,
      "metadata": {
        "colab": {
          "base_uri": "https://localhost:8080/"
        },
        "id": "6oWokBTsvHYG",
        "outputId": "92db6ebc-755c-448f-b74a-b8aca2187421"
      },
      "outputs": [
        {
          "data": {
            "text/plain": [
              "array([2, 1, 0, ..., 0, 3, 3])"
            ]
          },
          "execution_count": 7,
          "metadata": {},
          "output_type": "execute_result"
        }
      ],
      "source": [
        "from sklearn.preprocessing import LabelEncoder\n",
        "le = LabelEncoder()\n",
        "y = le.fit_transform(target)\n",
        "y"
      ]
    },
    {
      "cell_type": "code",
      "execution_count": null,
      "metadata": {
        "colab": {
          "base_uri": "https://localhost:8080/"
        },
        "id": "QmfsvLULvHYH",
        "outputId": "ef87d3f3-2897-4680-aa40-10cce1c7bb51"
      },
      "outputs": [
        {
          "data": {
            "text/plain": [
              "26729"
            ]
          },
          "execution_count": 8,
          "metadata": {},
          "output_type": "execute_result"
        }
      ],
      "source": [
        "len(y)"
      ]
    },
    {
      "cell_type": "code",
      "execution_count": null,
      "metadata": {
        "colab": {
          "base_uri": "https://localhost:8080/"
        },
        "id": "otLvFCPavHYI",
        "outputId": "74523028-7443-4218-b1d9-0d70611100c9"
      },
      "outputs": [
        {
          "data": {
            "text/plain": [
              "(26729, 37)"
            ]
          },
          "execution_count": 9,
          "metadata": {},
          "output_type": "execute_result"
        }
      ],
      "source": [
        "X.shape"
      ]
    },
    {
      "cell_type": "markdown",
      "metadata": {
        "id": "G0TQR8_evHYI"
      },
      "source": [
        "Разобьём выборку на тренировочную и тестовую. "
      ]
    },
    {
      "cell_type": "code",
      "execution_count": null,
      "metadata": {
        "colab": {
          "base_uri": "https://localhost:8080/"
        },
        "id": "oDNHmr36vHYI",
        "outputId": "c7df9521-4305-44bc-d494-a319f7b507e3"
      },
      "outputs": [
        {
          "name": "stdout",
          "output_type": "stream",
          "text": [
            "(21383, 37)\n",
            "(5346, 37)\n"
          ]
        }
      ],
      "source": [
        "from sklearn.model_selection import train_test_split\n",
        "\n",
        "X_train, X_test, y_train, y_test = train_test_split(X, y, test_size=0.2, stratify = y, random_state = 42)\n",
        "\n",
        "print(X_train.shape)\n",
        "print(X_test.shape)"
      ]
    },
    {
      "cell_type": "code",
      "execution_count": null,
      "metadata": {
        "id": "E9IYETYPvHYJ"
      },
      "outputs": [],
      "source": [
        "from sklearn.preprocessing import StandardScaler\n",
        "ss = StandardScaler()\n",
        "\n",
        "X_train = ss.fit_transform(X_train)\n",
        "X_test = ss.transform(X_test)"
      ]
    },
    {
      "cell_type": "markdown",
      "metadata": {
        "id": "1UGwCG70vHYJ"
      },
      "source": [
        "# 2. Архитектурка"
      ]
    },
    {
      "cell_type": "code",
      "execution_count": null,
      "metadata": {
        "id": "WZTyzK4Py50b"
      },
      "outputs": [],
      "source": [
        "import torch\n",
        "import torch.nn as nn            # содержит функции для реалзации архитектуры нейронных сетей\n",
        "import torch.nn.functional as F  # содержит различные функции активации и не только\n",
        "import torch.optim as optim\n",
        "import torch.utils.data as data_utils"
      ]
    },
    {
      "cell_type": "markdown",
      "metadata": {
        "id": "ezoTBX73vHYK"
      },
      "source": [
        "Функция для рисования графиков"
      ]
    },
    {
      "cell_type": "code",
      "execution_count": null,
      "metadata": {
        "id": "0SXl9eDVvHYK"
      },
      "outputs": [],
      "source": [
        "def plot(histories):\n",
        "    plt.figure(figsize=(16,10))\n",
        "    \n",
        "    for name, val_loss in histories:\n",
        "        plt.plot(val_loss, label=name)\n",
        "\n",
        "    plt.legend()"
      ]
    },
    {
      "cell_type": "markdown",
      "metadata": {
        "id": "9DDTRshI22Ho"
      },
      "source": [
        " Соберем архитектуру модели"
      ]
    },
    {
      "cell_type": "code",
      "execution_count": null,
      "metadata": {
        "id": "vV4QLIVv0r0_"
      },
      "outputs": [],
      "source": [
        "INPUT_SIZE = 37\n",
        "HIDDEN_SIZE = 25\n",
        "OUTPUT_SIZE = 4\n",
        "BATCH_SIZE = 1000\n",
        "EPOCHS = 105\n",
        "LEARNING_RATE = 0.001\n",
        "\n",
        "def build_model():\n",
        "    model = nn.Sequential(  \n",
        "        # Добавляем в нашу модель первый слой из 25 нейронов\n",
        "        nn.Linear(in_features=INPUT_SIZE, out_features=HIDDEN_SIZE),\n",
        "        nn.Sigmoid(),\n",
        "        \n",
        "        # Добавляем ещё один слой из 25 нейронов\n",
        "        nn.Linear(in_features=HIDDEN_SIZE, out_features=HIDDEN_SIZE),\n",
        "        nn.Sigmoid(),\n",
        "        \n",
        "        # Выходной вектор на количество классов, получаем с помощью такого же линейного приеобразования,\n",
        "        # как и предыдущие слои, но уже на нужное количество выходных нейронов (т.е. классов)\n",
        "        nn.Linear(in_features=HIDDEN_SIZE, out_features=OUTPUT_SIZE),\n",
        "        nn.Softmax()\n",
        "    )\n",
        "\n",
        "    return model"
      ]
    },
    {
      "cell_type": "markdown",
      "metadata": {
        "id": "L7nzgau33Avb"
      },
      "source": [
        "Напишем функцию, которая будет тренировать нейронную сеть. Функция имеет 2 логические части: первая - тренировочная, вторая - валидационная, другими словами, та, на которой вычисляется ошибка и сравнивается с ошибкой на тренировочных данных"
      ]
    },
    {
      "cell_type": "code",
      "execution_count": null,
      "metadata": {
        "id": "lRn2R0KJ1Kmp"
      },
      "outputs": [],
      "source": [
        "def run_train(model, optimizer, criterion, scheduler=None):\n",
        "    train_loss_values = []\n",
        "    train_accuracy_values = []\n",
        "    valid_loss_values = []\n",
        "    valid_accuracy = []\n",
        "    lr_history = []\n",
        "\n",
        "    model.train()\n",
        "    for epoch in range(EPOCHS):\n",
        "        running_loss = []\n",
        "        running_acc = []\n",
        "        for features, label in train_loader:\n",
        "            # Reset gradients\n",
        "            optimizer.zero_grad()\n",
        "            \n",
        "            # run model on the chosen batch\n",
        "            output = model(features)\n",
        "\n",
        "            # Calculate error and backpropagate\n",
        "            loss = criterion(output, label)\n",
        "            loss.backward()\n",
        "\n",
        "            # manual accuracy calculation; no torch lightning\n",
        "            acc = (output.argmax(dim=1)==label).sum() / len(label)\n",
        "\n",
        "            # Update weights with gradients\n",
        "            optimizer.step()\n",
        "\n",
        "            running_loss.append(loss.item())\n",
        "            running_acc.append(acc)\n",
        "\n",
        "        train_loss_values.append(np.mean(running_loss))\n",
        "        train_accuracy_values.append(np.mean(running_acc))\n",
        "        if epoch % 20 == 0:\n",
        "            print('EPOCH %d,  train_loss: %f, train_accuracy: %f' % (epoch, train_loss_values[-1], train_accuracy_values[-1]))\n",
        "\n",
        "\n",
        "        model.eval()\n",
        "        # Run validation\n",
        "        running_loss = []\n",
        "        running_acc = []\n",
        "        with torch.no_grad(): # in validation loop we do not need gradients calculation; so switch it off\n",
        "            for features, label in test_loader:\n",
        "                output = model(features)\n",
        "                \n",
        "                # Calculate error ana accuracy\n",
        "                loss = criterion(output, label)\n",
        "                acc = (output.argmax(dim=1)==label).sum() / len(label)\n",
        "\n",
        "                running_loss.append(loss.item())\n",
        "                running_acc.append(acc)\n",
        "\n",
        "            valid_loss_values.append(np.mean(running_loss))\n",
        "            valid_accuracy.append(np.mean(running_acc))\n",
        "            if epoch % 20 == 0:\n",
        "                print('EPOCH %d, valid_loss: %f, valid_accuracy: %f' % (epoch, valid_loss_values[-1], valid_accuracy[-1]))\n",
        "\n",
        "        if scheduler is not None:\n",
        "            # Decay Learning Rate\n",
        "            scheduler.step()\n",
        "            lr_history.append(scheduler.get_last_lr())\n",
        "\n",
        "    if scheduler is not None:\n",
        "        return train_loss_values, train_accuracy_values, valid_loss_values, valid_accuracy, lr_history\n",
        "        \n",
        "    return train_loss_values, train_accuracy_values, valid_loss_values, valid_accuracy"
      ]
    },
    {
      "cell_type": "markdown",
      "metadata": {
        "id": "6q27i0kP3a0g"
      },
      "source": [
        "Создадим PyTorch `Dataloader`. Объект DataLoader принимает на вход датасет и ряд параметров, задающих процедуру формирования батча данных.\n",
        "\n",
        "Основным входным параметром `Dataloader` является объект PyTorch `Dataset`. Он нужен для доступа к элементы данных по конкретному индексу. \n",
        "\n",
        "На первый взгляд такая конструкция может показаться странной и излишней. Однако к ней просто нужно привыкнуть и со временем станет понятно насколько она удобна и лаконична. В силу своей гибкости она позволяет формировать размер и структуру батча по желанию, а также собирать батч из заранее выбранных элементов данных. Такая кастомная сборка батча может пригодиться, например, при работе с последовательными данными, такими как предложения в тексте, имеющими разную длину. "
      ]
    },
    {
      "cell_type": "code",
      "execution_count": null,
      "metadata": {
        "id": "rpRy2C4V3a_B"
      },
      "outputs": [],
      "source": [
        "def create_data_loader(X_train, y_train, X_test, y_test):\n",
        "    train_tensor = data_utils.TensorDataset(torch.tensor(X_train.astype(np.float32)), torch.tensor(y_train))\n",
        "    train_loader = data_utils.DataLoader(dataset=train_tensor,\n",
        "                                         batch_size=BATCH_SIZE,\n",
        "                                         shuffle=True)\n",
        "\n",
        "    test_tensor = data_utils.TensorDataset(torch.tensor(X_test.astype(np.float32)), torch.tensor(y_test))\n",
        "    test_loader = data_utils.DataLoader(dataset=test_tensor,\n",
        "                                        batch_size=BATCH_SIZE,\n",
        "                                        shuffle=False)\n",
        "    return train_loader, test_loader\n",
        "\n",
        "train_loader, test_loader = create_data_loader(X_train, y_train, X_test, y_test)"
      ]
    },
    {
      "cell_type": "markdown",
      "metadata": {
        "id": "Py6-_0wpvHYN"
      },
      "source": [
        "# 3. Оптимизация \n",
        "\n",
        "### SGD "
      ]
    },
    {
      "cell_type": "code",
      "execution_count": null,
      "metadata": {
        "colab": {
          "base_uri": "https://localhost:8080/"
        },
        "id": "hBiUj5TysK_v",
        "outputId": "9117c1e3-265d-49b4-c277-007efa3308ce"
      },
      "outputs": [
        {
          "data": {
            "text/plain": [
              "torch.Size([25, 37])"
            ]
          },
          "execution_count": 19,
          "metadata": {},
          "output_type": "execute_result"
        }
      ],
      "source": [
        "model1 = build_model()\n",
        "list(model1.parameters())[0].shape"
      ]
    },
    {
      "cell_type": "code",
      "execution_count": null,
      "metadata": {
        "colab": {
          "base_uri": "https://localhost:8080/"
        },
        "id": "jGFgUTyuvHYO",
        "outputId": "eba9252f-4c76-4f5f-f623-67b4b1f5cc10"
      },
      "outputs": [
        {
          "name": "stdout",
          "output_type": "stream",
          "text": [
            "EPOCH 0,  train_loss: 1.391351, train_accuracy: 0.179684\n",
            "EPOCH 0, valid_loss: 1.391021, valid_accuracy: 0.178717\n",
            "EPOCH 20,  train_loss: 1.378635, train_accuracy: 0.179217\n",
            "EPOCH 20, valid_loss: 1.378268, valid_accuracy: 0.179865\n",
            "EPOCH 40,  train_loss: 1.367180, train_accuracy: 0.403673\n",
            "EPOCH 40, valid_loss: 1.366827, valid_accuracy: 0.404994\n",
            "EPOCH 60,  train_loss: 1.357256, train_accuracy: 0.402502\n",
            "EPOCH 60, valid_loss: 1.356821, valid_accuracy: 0.404994\n",
            "EPOCH 80,  train_loss: 1.348728, train_accuracy: 0.402209\n",
            "EPOCH 80, valid_loss: 1.348220, valid_accuracy: 0.404994\n",
            "EPOCH 100,  train_loss: 1.341401, train_accuracy: 0.402135\n",
            "EPOCH 100, valid_loss: 1.340917, valid_accuracy: 0.404994\n"
          ]
        }
      ],
      "source": [
        "# Первая простенькая моделька \n",
        "model1 = build_model()\n",
        "\n",
        "# инициализируем SGD optimizer\n",
        "sgd = optim.SGD(model1.parameters(), lr=LEARNING_RATE)\n",
        "\n",
        "# инициализируем Loss function (функцию потерь)\n",
        "criterion = nn.CrossEntropyLoss()\n",
        "\n",
        "# запускаем процесс обучения\n",
        "train_loss_values, train_accuracy_values, valid_loss_values, valid_accuracy = run_train(model1, optimizer=sgd, criterion=criterion)"
      ]
    },
    {
      "cell_type": "code",
      "execution_count": null,
      "metadata": {
        "colab": {
          "base_uri": "https://localhost:8080/",
          "height": 592
        },
        "id": "Hp3ghesy9JWb",
        "outputId": "12077395-29e4-48ca-d600-3259131899b7"
      },
      "outputs": [
        {
          "data": {
            "image/png": "[encoded data removed]",
            "text/plain": [
              "<Figure size 1152x720 with 1 Axes>"
            ]
          },
          "metadata": {},
          "output_type": "display_data"
        }
      ],
      "source": [
        "plot([('Simple SGD', valid_loss_values)])"
      ]
    },
    {
      "cell_type": "markdown",
      "metadata": {
        "id": "k_5OGJF4vHYP"
      },
      "source": [
        "### Nesterov Momentum"
      ]
    },
    {
      "cell_type": "code",
      "execution_count": null,
      "metadata": {
        "colab": {
          "base_uri": "https://localhost:8080/"
        },
        "id": "QVwA2M_pvHYP",
        "outputId": "7261b51b-5763-4b70-99ff-fb7ac9d18f10"
      },
      "outputs": [
        {
          "name": "stdout",
          "output_type": "stream",
          "text": [
            "EPOCH 0,  train_loss: 1.368836, train_accuracy: 0.403820\n",
            "EPOCH 0, valid_loss: 1.366264, valid_accuracy: 0.404994\n",
            "EPOCH 20,  train_loss: 1.317945, train_accuracy: 0.402941\n",
            "EPOCH 20, valid_loss: 1.316656, valid_accuracy: 0.404994\n",
            "EPOCH 40,  train_loss: 1.304512, train_accuracy: 0.402794\n",
            "EPOCH 40, valid_loss: 1.303750, valid_accuracy: 0.404994\n",
            "EPOCH 60,  train_loss: 1.298182, train_accuracy: 0.403234\n",
            "EPOCH 60, valid_loss: 1.297654, valid_accuracy: 0.404994\n",
            "EPOCH 80,  train_loss: 1.294735, train_accuracy: 0.403527\n",
            "EPOCH 80, valid_loss: 1.294427, valid_accuracy: 0.404994\n",
            "EPOCH 100,  train_loss: 1.293267, train_accuracy: 0.401989\n",
            "EPOCH 100, valid_loss: 1.292386, valid_accuracy: 0.404994\n"
          ]
        }
      ],
      "source": [
        "# Первая простенькая моделька \n",
        "model2 = build_model()\n",
        "\n",
        "# инициализируем SGD optimizer\n",
        "sgd = optim.SGD(model2.parameters(), lr=LEARNING_RATE, momentum=0.9, nesterov=True)\n",
        "\n",
        "# запускаем процесс обучения\n",
        "train_loss_values2, train_accuracy_values2, valid_loss_values2, valid_accuracy2 = run_train(model2, optimizer=sgd, criterion=criterion)"
      ]
    },
    {
      "cell_type": "code",
      "execution_count": null,
      "metadata": {
        "colab": {
          "base_uri": "https://localhost:8080/",
          "height": 592
        },
        "id": "AA5eiW_--AN5",
        "outputId": "fae512a4-7348-4693-db8b-4640735f072a"
      },
      "outputs": [
        {
          "data": {
            "image/png": "[encoded data removed]",
            "text/plain": [
              "<Figure size 1152x720 with 1 Axes>"
            ]
          },
          "metadata": {},
          "output_type": "display_data"
        }
      ],
      "source": [
        "plot([('Simple SGD', valid_loss_values), \n",
        "      ('momentum nesterov SGD', valid_loss_values2)])\n"
      ]
    },
    {
      "cell_type": "markdown",
      "metadata": {
        "id": "IcfJX5jPvHYQ"
      },
      "source": [
        "### RMSprop "
      ]
    },
    {
      "cell_type": "code",
      "execution_count": null,
      "metadata": {
        "colab": {
          "base_uri": "https://localhost:8080/"
        },
        "id": "Ud8z7qOSvHYQ",
        "outputId": "77be260c-4d61-45a7-d981-e7532d3c854d"
      },
      "outputs": [
        {
          "name": "stdout",
          "output_type": "stream",
          "text": [
            "EPOCH 0,  train_loss: 1.363134, train_accuracy: 0.322949\n",
            "EPOCH 0, valid_loss: 1.339876, valid_accuracy: 0.350710\n",
            "EPOCH 20,  train_loss: 1.128329, train_accuracy: 0.612753\n",
            "EPOCH 20, valid_loss: 1.132737, valid_accuracy: 0.605896\n",
            "EPOCH 40,  train_loss: 1.125912, train_accuracy: 0.614218\n",
            "EPOCH 40, valid_loss: 1.131444, valid_accuracy: 0.606914\n",
            "EPOCH 60,  train_loss: 1.118351, train_accuracy: 0.617390\n",
            "EPOCH 60, valid_loss: 1.121385, valid_accuracy: 0.613193\n",
            "EPOCH 80,  train_loss: 1.096210, train_accuracy: 0.642693\n",
            "EPOCH 80, valid_loss: 1.102366, valid_accuracy: 0.636380\n",
            "EPOCH 100,  train_loss: 1.087479, train_accuracy: 0.650029\n",
            "EPOCH 100, valid_loss: 1.095227, valid_accuracy: 0.645825\n"
          ]
        }
      ],
      "source": [
        "# Первая простенькая моделька \n",
        "model3 = build_model()\n",
        "\n",
        "# инициализируем SGD optimizer\n",
        "rmsprop = optim.RMSprop(model3.parameters(), lr=LEARNING_RATE, alpha=0.9, eps=1e-08)\n",
        "\n",
        "# запускаем процесс обучения\n",
        "train_loss_values3, train_accuracy_values3, valid_loss_values3, valid_accuracy3 = run_train(model3, optimizer=rmsprop, criterion=criterion)"
      ]
    },
    {
      "cell_type": "code",
      "execution_count": null,
      "metadata": {
        "colab": {
          "base_uri": "https://localhost:8080/",
          "height": 592
        },
        "id": "8FjU0em9_X2g",
        "outputId": "861fa906-891f-414f-8ce7-bd84b5f11d40"
      },
      "outputs": [
        {
          "data": {
            "image/png": "[encoded data removed]",
            "text/plain": [
              "<Figure size 1152x720 with 1 Axes>"
            ]
          },
          "metadata": {},
          "output_type": "display_data"
        }
      ],
      "source": [
        "plot([('Simple SGD', valid_loss_values), \n",
        "      ('momentum nesterov SGD', valid_loss_values2),\n",
        "      ('RMSprop', valid_loss_values3)])\n"
      ]
    },
    {
      "cell_type": "markdown",
      "metadata": {
        "id": "ZetN13i5vHYS"
      },
      "source": [
        "### Adam "
      ]
    },
    {
      "cell_type": "code",
      "execution_count": null,
      "metadata": {
        "colab": {
          "base_uri": "https://localhost:8080/"
        },
        "id": "DxjzA6G5vHYT",
        "outputId": "47e8fffc-1fb9-4596-ed24-4f0b9c5d380d"
      },
      "outputs": [
        {
          "name": "stdout",
          "output_type": "stream",
          "text": [
            "EPOCH 0,  train_loss: 1.346788, train_accuracy: 0.401550\n",
            "EPOCH 0, valid_loss: 1.327849, valid_accuracy: 0.404994\n",
            "EPOCH 20,  train_loss: 1.130548, train_accuracy: 0.612506\n",
            "EPOCH 20, valid_loss: 1.134766, valid_accuracy: 0.606063\n",
            "EPOCH 40,  train_loss: 1.127005, train_accuracy: 0.613286\n",
            "EPOCH 40, valid_loss: 1.132147, valid_accuracy: 0.606896\n",
            "EPOCH 60,  train_loss: 1.125046, train_accuracy: 0.615031\n",
            "EPOCH 60, valid_loss: 1.131421, valid_accuracy: 0.607081\n",
            "EPOCH 80,  train_loss: 1.124757, train_accuracy: 0.614589\n",
            "EPOCH 80, valid_loss: 1.130633, valid_accuracy: 0.606414\n",
            "EPOCH 100,  train_loss: 1.123267, train_accuracy: 0.615468\n",
            "EPOCH 100, valid_loss: 1.128984, valid_accuracy: 0.606451\n"
          ]
        }
      ],
      "source": [
        "# Первая простенькая моделька \n",
        "model4 = build_model()\n",
        "\n",
        "# инициализируем SGD optimizer\n",
        "adam = optim.Adam(model4.parameters(), lr=LEARNING_RATE, betas=(0.9, 0.999), eps=1e-08)\n",
        "\n",
        "# запускаем процесс обучения\n",
        "train_loss_values4, train_accuracy_values4, valid_loss_values4, valid_accuracy4 = run_train(model4, optimizer=adam, criterion=criterion)"
      ]
    },
    {
      "cell_type": "code",
      "execution_count": null,
      "metadata": {
        "colab": {
          "base_uri": "https://localhost:8080/",
          "height": 592
        },
        "id": "VmhZJRiSAKDd",
        "outputId": "5f1b3fbf-4c84-4cfb-f101-3b58968b2c52"
      },
      "outputs": [
        {
          "data": {
            "image/png": "[encoded data removed]",
            "text/plain": [
              "<Figure size 1152x720 with 1 Axes>"
            ]
          },
          "metadata": {},
          "output_type": "display_data"
        }
      ],
      "source": [
        "plot([('Simple SGD', valid_loss_values), \n",
        "      ('momentum nesterov SGD', valid_loss_values2),\n",
        "      ('RMSprop', valid_loss_values3),\n",
        "      ('ADAM', valid_loss_values4)])\n"
      ]
    },
    {
      "cell_type": "markdown",
      "metadata": {
        "id": "YsIQGhJyvHYV"
      },
      "source": [
        "# 4. Стратегии с постепенным понижением lr \n",
        "\n",
        "![](https://raw.githubusercontent.com/FUlyankin/neural_nets_econ/master/2019/sem_2/ahaha.jpg)"
      ]
    },
    {
      "cell_type": "code",
      "execution_count": null,
      "metadata": {
        "id": "DZLkoUa6EQ_n"
      },
      "outputs": [],
      "source": [
        "# функция для картинок, чтобы видеть как скорость обучения меняется от эпохи к эпохе\n",
        "def plot_learning_rate(lr_history):\n",
        "    fig = plt.figure()\n",
        "    plt.plot(range(1, EPOCHS+1), lr_history, label='learning rate')\n",
        "    plt.xlabel(\"epoch\")\n",
        "    plt.xlim([1, EPOCHS+1])\n",
        "    plt.ylabel(\"learning rate\")\n",
        "    plt.legend(loc=0)\n",
        "    plt.grid(True)\n",
        "    plt.title(\"Learning rate\")\n",
        "    plt.show()"
      ]
    },
    {
      "cell_type": "markdown",
      "metadata": {
        "id": "DORJkuW4vHYW"
      },
      "source": [
        "Стартовую скорость обучения специально берём большой! "
      ]
    },
    {
      "cell_type": "code",
      "execution_count": null,
      "metadata": {
        "id": "coV4-vvjvHYW"
      },
      "outputs": [],
      "source": [
        "INIT_LR = 0.1  # берём lr намеренно большим"
      ]
    },
    {
      "cell_type": "code",
      "execution_count": null,
      "metadata": {
        "colab": {
          "base_uri": "https://localhost:8080/"
        },
        "id": "QZG_eCMmHroe",
        "outputId": "1f84a571-7a6d-42bb-86e8-431799535eb5"
      },
      "outputs": [
        {
          "data": {
            "text/plain": [
              "22"
            ]
          },
          "execution_count": 30,
          "metadata": {},
          "output_type": "execute_result"
        }
      ],
      "source": [
        "len(train_loader)"
      ]
    },
    {
      "cell_type": "code",
      "execution_count": null,
      "metadata": {
        "colab": {
          "base_uri": "https://localhost:8080/"
        },
        "id": "-l0AcAMOvHYX",
        "outputId": "455b78bf-92b9-4ded-b2b2-1f14342b8c4b"
      },
      "outputs": [
        {
          "name": "stdout",
          "output_type": "stream",
          "text": [
            "EPOCH 0,  train_loss: 1.179636, train_accuracy: 0.559468\n",
            "EPOCH 0, valid_loss: 1.140686, valid_accuracy: 0.602081\n",
            "EPOCH 20,  train_loss: 1.104625, train_accuracy: 0.633359\n",
            "EPOCH 20, valid_loss: 1.121901, valid_accuracy: 0.615268\n",
            "EPOCH 40,  train_loss: 1.056651, train_accuracy: 0.683387\n",
            "EPOCH 40, valid_loss: 1.092926, valid_accuracy: 0.645455\n",
            "EPOCH 60,  train_loss: 1.030417, train_accuracy: 0.713031\n",
            "EPOCH 60, valid_loss: 1.085082, valid_accuracy: 0.653900\n",
            "EPOCH 80,  train_loss: 1.022403, train_accuracy: 0.721475\n",
            "EPOCH 80, valid_loss: 1.088906, valid_accuracy: 0.650103\n",
            "EPOCH 100,  train_loss: 1.016703, train_accuracy: 0.727152\n",
            "EPOCH 100, valid_loss: 1.090002, valid_accuracy: 0.650030\n"
          ]
        }
      ],
      "source": [
        "from torch.optim.lr_scheduler import StepLR\n",
        "\n",
        "\n",
        "# Первая простенькая моделька \n",
        "model5 = build_model()\n",
        "\n",
        "# инициализируем SGD optimizer\n",
        "adam = optim.Adam(model5.parameters(), lr=INIT_LR, betas=(0.9, 0.999), eps=1e-08)\n",
        "\n",
        "# инициализируем \n",
        "scheduler = StepLR(adam, step_size=50, gamma=0.5)\n",
        "\n",
        "# запускаем процесс обучения\n",
        "train_loss_values5, train_accuracy_values5, valid_loss_values5, valid_accuracy5, lr_history5 = run_train(model5, optimizer=adam, \n",
        "                                                                                                        criterion=criterion, scheduler=scheduler)"
      ]
    },
    {
      "cell_type": "code",
      "execution_count": null,
      "metadata": {
        "colab": {
          "base_uri": "https://localhost:8080/"
        },
        "id": "lPcjsNn2IOaE",
        "outputId": "7b47160d-ba74-4bec-e2c7-0164420d052a"
      },
      "outputs": [
        {
          "name": "stdout",
          "output_type": "stream",
          "text": [
            "1 [0.1]\n",
            "2 [0.1]\n",
            "3 [0.010000000000000002]\n",
            "4 [0.010000000000000002]\n",
            "5 [0.0010000000000000002]\n",
            "6 [0.0010000000000000002]\n",
            "7 [0.00010000000000000003]\n",
            "8 [0.00010000000000000003]\n",
            "9 [1.0000000000000004e-05]\n",
            "10 [1.0000000000000004e-05]\n"
          ]
        }
      ],
      "source": [
        "adam = optim.SGD(model5.parameters(), lr=INIT_LR)\n",
        "scheduler = StepLR(adam, step_size=2, gamma=0.1)\n",
        "\n",
        "for i in range(10):\n",
        "    print(i+1, scheduler.get_last_lr())\n",
        "    scheduler.step()"
      ]
    },
    {
      "cell_type": "code",
      "execution_count": null,
      "metadata": {
        "colab": {
          "base_uri": "https://localhost:8080/",
          "height": 299
        },
        "id": "uvz8awtXvHYX",
        "outputId": "b13e402e-b8b5-4b8a-fa5e-3b44420887b7"
      },
      "outputs": [
        {
          "data": {
            "image/png": "[encoded data removed]",
            "text/plain": [
              "<Figure size 432x288 with 1 Axes>"
            ]
          },
          "metadata": {},
          "output_type": "display_data"
        }
      ],
      "source": [
        "# Смотрим как скорость обучения по немного понижалась\n",
        "plot_learning_rate(lr_history5)"
      ]
    },
    {
      "cell_type": "code",
      "execution_count": null,
      "metadata": {
        "colab": {
          "base_uri": "https://localhost:8080/",
          "height": 592
        },
        "id": "kTAlcNyLMlO4",
        "outputId": "ba71c45f-553e-4758-b6bd-fcc99b19cccd"
      },
      "outputs": [
        {
          "data": {
            "image/png": "[encoded data removed]",
            "text/plain": [
              "<Figure size 1152x720 with 1 Axes>"
            ]
          },
          "metadata": {},
          "output_type": "display_data"
        }
      ],
      "source": [
        "plot([('Simple SGD', valid_loss_values), \n",
        "      ('momentum nesterov SGD', valid_loss_values2),\n",
        "      ('RMSprop', valid_loss_values3),\n",
        "      ('ADAM', valid_loss_values4),\n",
        "      ('ADAM_step', valid_loss_values5)])"
      ]
    },
    {
      "cell_type": "markdown",
      "metadata": {
        "id": "o6Wi1Va3vHYY"
      },
      "source": [
        "Попробуем ещё вариант!"
      ]
    },
    {
      "cell_type": "code",
      "execution_count": null,
      "metadata": {
        "colab": {
          "base_uri": "https://localhost:8080/"
        },
        "id": "xmpv93IxvHYZ",
        "outputId": "05b6931d-bd52-469c-dd03-69dd962b5c69"
      },
      "outputs": [
        {
          "name": "stdout",
          "output_type": "stream",
          "text": [
            "EPOCH 0,  train_loss: 1.173427, train_accuracy: 0.560175\n",
            "EPOCH 0, valid_loss: 1.136683, valid_accuracy: 0.605026\n",
            "EPOCH 20,  train_loss: 1.107016, train_accuracy: 0.631938\n",
            "EPOCH 20, valid_loss: 1.120533, valid_accuracy: 0.619565\n",
            "EPOCH 40,  train_loss: 1.087795, train_accuracy: 0.654175\n",
            "EPOCH 40, valid_loss: 1.119939, valid_accuracy: 0.617453\n",
            "EPOCH 60,  train_loss: 1.083001, train_accuracy: 0.659925\n",
            "EPOCH 60, valid_loss: 1.120876, valid_accuracy: 0.617768\n",
            "EPOCH 80,  train_loss: 1.079421, train_accuracy: 0.664549\n",
            "EPOCH 80, valid_loss: 1.121909, valid_accuracy: 0.616786\n",
            "EPOCH 100,  train_loss: 1.079012, train_accuracy: 0.665084\n",
            "EPOCH 100, valid_loss: 1.121851, valid_accuracy: 0.617601\n"
          ]
        }
      ],
      "source": [
        "from torch.optim.lr_scheduler import MultiStepLR\n",
        "\n",
        "\n",
        "# Первая простенькая моделька \n",
        "model6 = build_model()\n",
        "\n",
        "# инициализируем SGD optimizer\n",
        "adam = optim.Adam(model6.parameters(), lr=INIT_LR, betas=(0.9, 0.999), eps=1e-08)\n",
        "\n",
        "# инициализируем \n",
        "scheduler = MultiStepLR(adam, milestones=[30,80], gamma=0.1)\n",
        "\n",
        "# запускаем процесс обучения\n",
        "train_loss_values6, train_accuracy_values6, valid_loss_values6, valid_accuracy6, lr_history6 = run_train(model6, optimizer=adam, \n",
        "                                                                                                        criterion=criterion, scheduler=scheduler)"
      ]
    },
    {
      "cell_type": "code",
      "execution_count": null,
      "metadata": {
        "colab": {
          "background_save": true
        },
        "id": "n43RxrQIOeoE",
        "outputId": "39c2702d-e018-47b6-a492-70be5d5575b9"
      },
      "outputs": [
        {
          "data": {
            "image/png": "[encoded data removed]",
            "text/plain": [
              "<Figure size 432x288 with 1 Axes>"
            ]
          },
          "metadata": {},
          "output_type": "display_data"
        }
      ],
      "source": [
        "# Смотрим как скорость обучения по немного понижалась\n",
        "plot_learning_rate(lr_history6)"
      ]
    },
    {
      "cell_type": "code",
      "execution_count": null,
      "metadata": {
        "id": "50qD4pmKvHYZ"
      },
      "outputs": [],
      "source": [
        "plot([('Simple SGD', valid_loss_values), \n",
        "      ('momentum nesterov SGD', valid_loss_values2),\n",
        "      ('RMSprop', valid_loss_values3),\n",
        "      ('ADAM', valid_loss_values4),\n",
        "      ('ADAM_step', valid_loss_values5),\n",
        "      ('ADAM_step 2', valid_loss_values6)])"
      ]
    },
    {
      "cell_type": "markdown",
      "metadata": {
        "id": "SB5h35HRO5XI"
      },
      "source": [
        "Существует множество различных Scheduler`ов. Полный список можно найти на [странице](https://pytorch.org/docs/stable/optim.html) в разделе \"How to adjust learning rate\"\n",
        "\n",
        "Великолепное описание различных Scheduler`ов и как их применять можно найти по [ссылке](https://www.deeplearningwizard.com/deep_learning/boosting_models_pytorch/lr_scheduling/)"
      ]
    },
    {
      "cell_type": "markdown",
      "metadata": {
        "id": "goMH1Np-vHYZ"
      },
      "source": [
        "## Авторские права и почиташки \n",
        "\n",
        "* Для создания тетрадки использовался [вот этот мануал](https://github.com/sukilau/Ziff-deep-learning/blob/master/3-CIFAR10-lrate/CIFAR10-lrate.ipynb), адаптированный под PyTorch"
      ]
    },
    {
      "cell_type": "markdown",
      "metadata": {
        "id": "8PNGBENzvHYZ"
      },
      "source": [
        "##   Домашнее задание\n",
        "Пришло время заняться исследованиями! На лекции мы с вами обсудили, что сегодня люди ставят довольно большое число разных экспериментов с циклической скоростью обучения. Делают они это, чтобы как-то соскальзывать с сёдел и выбираться из локальных минимумов.  В этом задании вам надо будет немного поэкспериментировать с такими скоростями обучения. Предлагается поизучать [Scheduler`ы](https://pytorch.org/docs/stable/optim.html#how-to-adjust-learning-rate), реализованные в PyTorch и выбрать 2-3 для сравнения с рассмотренными вариантами на семинаре\n",
        "\n",
        "Вообще поощряются любые эксперименты. Не забывайте строить картинки. Можете как-то видоизменить архитектуру сетки. Например, добавить какие-то новые слои или сделать её глубже. Эксперименты можно оформлять прямо в этой тетрадке. Её же и присылайте.\n",
        "\n",
        "Если хочется вдохновения, [в этой статье](https://www.jeremyjordan.me/nn-learning-rate/) можно найти много разных вариантов пересчёта скорости обучения. Есть варианты с циклами и даже косинусами! Единственное, что код в статье написан на Keras, но это никак не мешает изучить суть алгоритмов. Еще одна полезная [ссылка](https://www.deeplearningwizard.com/deep_learning/boosting_models_pytorch/lr_scheduling/), которую я уже приводил выше\n",
        "\n",
        "Плодотворных экспериментов :) "
      ]
    },
    {
      "cell_type": "code",
      "execution_count": null,
      "metadata": {
        "id": "hBEKcQ1fvHYa"
      },
      "outputs": [],
      "source": [
        "# ваш код"
      ]
    }
  ],
  "metadata": {
    "colab": {
      "collapsed_sections": [],
      "provenance": []
    },
    "kernelspec": {
      "display_name": "Python 3 (ipykernel)",
      "language": "python",
      "name": "python3"
    },
    "language_info": {
      "codemirror_mode": {
        "name": "ipython",
        "version": 3
      },
      "file_extension": ".py",
      "mimetype": "text/x-python",
      "name": "python",
      "nbconvert_exporter": "python",
      "pygments_lexer": "ipython3",
      "version": "3.8.9"
    }
  },
  "nbformat": 4,
  "nbformat_minor": 0
}